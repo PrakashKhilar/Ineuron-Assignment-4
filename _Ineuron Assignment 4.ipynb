{
 "cells": [
  {
   "cell_type": "markdown",
   "id": "50c642ab",
   "metadata": {},
   "source": [
    "#  Ineuron Assignment 4"
   ]
  },
  {
   "cell_type": "code",
   "execution_count": 1,
   "id": "db2fd6f3",
   "metadata": {},
   "outputs": [],
   "source": [
    "# Question 1: What exactly is []?\n"
   ]
  },
  {
   "cell_type": "code",
   "execution_count": 5,
   "id": "68badefe",
   "metadata": {},
   "outputs": [],
   "source": [
    "# Answer :\n",
    "# In Python, a list is created by placing elements inside square brackets [], separated by commas.\n",
    "# Example\n",
    "list = [1, 2, 3]\n",
    "\n",
    "# A list can have any number of items and they may be of different types (integer, float, string, etc.).\n",
    "\n",
    "# empty list\n",
    "list1 = []\n",
    "\n",
    "# list with mixed data types\n",
    "lis2  = [1, \"Hello\", 3.4]\n",
    "\n",
    "# A list can also have another list as an item. This is called a nested list.\n",
    "# nested list\n",
    "list2  = [\"Ineruon\", [8, 4, 6], ['a']]"
   ]
  },
  {
   "cell_type": "code",
   "execution_count": 6,
   "id": "704b37fc",
   "metadata": {},
   "outputs": [
    {
     "data": {
      "text/plain": [
       "['Ineruon', [8, 4, 6], ['a']]"
      ]
     },
     "execution_count": 6,
     "metadata": {},
     "output_type": "execute_result"
    }
   ],
   "source": [
    "list2"
   ]
  },
  {
   "cell_type": "code",
   "execution_count": 7,
   "id": "faa347e8",
   "metadata": {},
   "outputs": [],
   "source": [
    "# Question 2: In a list of values stored in a variable called spam, how would you assign the value 'hello' as the third value? \n",
    "# (Assume [2, 4, 6, 8, 10] are in spam.)"
   ]
  },
  {
   "cell_type": "code",
   "execution_count": 12,
   "id": "69beb231",
   "metadata": {},
   "outputs": [],
   "source": [
    "# Answer:\n",
    "spam = [2,4,6,8,10]"
   ]
  },
  {
   "cell_type": "code",
   "execution_count": 21,
   "id": "8dc7e70b",
   "metadata": {},
   "outputs": [],
   "source": [
    "spam[2] = 'hello'"
   ]
  },
  {
   "cell_type": "code",
   "execution_count": 22,
   "id": "fcc7fe92",
   "metadata": {},
   "outputs": [
    {
     "data": {
      "text/plain": [
       "[2, 4, 'hello', 8, 10]"
      ]
     },
     "execution_count": 22,
     "metadata": {},
     "output_type": "execute_result"
    }
   ],
   "source": [
    "spam"
   ]
  },
  {
   "cell_type": "code",
   "execution_count": 23,
   "id": "47bfa863",
   "metadata": {},
   "outputs": [],
   "source": [
    "# Question 3 : What does spam[int('3' * 2) / 11] evaluate to?\n",
    "\n",
    "# For this question, let's say spam contains the list ['a', 'b', 'c', 'd'].\n",
    "# Answer is d."
   ]
  },
  {
   "cell_type": "code",
   "execution_count": 39,
   "id": "652584a9",
   "metadata": {},
   "outputs": [
    {
     "ename": "NameError",
     "evalue": "name 'a' is not defined",
     "output_type": "error",
     "traceback": [
      "\u001b[1;31m---------------------------------------------------------------------------\u001b[0m",
      "\u001b[1;31mNameError\u001b[0m                                 Traceback (most recent call last)",
      "Input \u001b[1;32mIn [39]\u001b[0m, in \u001b[0;36m<cell line: 2>\u001b[1;34m()\u001b[0m\n\u001b[0;32m      1\u001b[0m \u001b[38;5;66;03m# Answer : \u001b[39;00m\n\u001b[1;32m----> 2\u001b[0m spam \u001b[38;5;241m=\u001b[39m [\u001b[43ma\u001b[49m, b, c ,d]\n\u001b[0;32m      3\u001b[0m spam[\u001b[38;5;28mint\u001b[39m(\u001b[38;5;28mint\u001b[39m(\u001b[38;5;124m'\u001b[39m\u001b[38;5;124m3\u001b[39m\u001b[38;5;124m'\u001b[39m \u001b[38;5;241m*\u001b[39m \u001b[38;5;241m2\u001b[39m) \u001b[38;5;241m/\u001b[39m \u001b[38;5;241m11\u001b[39m)]\n\u001b[0;32m      4\u001b[0m spam[\u001b[38;5;28mint\u001b[39m(\u001b[38;5;28mint\u001b[39m(\u001b[38;5;124m'\u001b[39m\u001b[38;5;124m33\u001b[39m\u001b[38;5;124m'\u001b[39m) \u001b[38;5;241m/\u001b[39m \u001b[38;5;241m11\u001b[39m)]     \u001b[38;5;66;03m# Note that '3' * 2 is the string '33', which is passed to int() before being divided by 11. \u001b[39;00m\n",
      "\u001b[1;31mNameError\u001b[0m: name 'a' is not defined"
     ]
    }
   ],
   "source": [
    "# Answer : \n",
    "spam = [a, b, c ,d]\n",
    "spam[int(int('3' * 2) / 11)]\n",
    "spam[int(int('33') / 11)]     # Note that '3' * 2 is the string '33', which is passed to int() before being divided by 11. \n",
    "                               #This eventually evaluates to 3. Expressions can be used wherever values are used\n",
    "spam[3]"
   ]
  },
  {
   "cell_type": "code",
   "execution_count": 40,
   "id": "39319a91",
   "metadata": {},
   "outputs": [
    {
     "data": {
      "text/plain": [
       "'d'"
      ]
     },
     "execution_count": 40,
     "metadata": {},
     "output_type": "execute_result"
    }
   ],
   "source": [
    "spam = ['a', 'b', 'c' ,'d']\n",
    "spam[int(int('3' * 2) / 11)]\n",
    "spam[int(int('33') / 11)]     # Note that '3' * 2 is the string '33', which is passed to int() before being divided by 11. \n",
    "                               #This eventually evaluates to 3. Expressions can be used wherever values are used\n",
    "spam[3]"
   ]
  },
  {
   "cell_type": "code",
   "execution_count": 41,
   "id": "d1c41852",
   "metadata": {},
   "outputs": [],
   "source": [
    "# Question 4 :\n",
    "# What is the value of spam[-1]?\n",
    "# For this question, let's say spam contains the list ['a', 'b', 'c', 'd'].\n"
   ]
  },
  {
   "cell_type": "code",
   "execution_count": 42,
   "id": "2095654e",
   "metadata": {},
   "outputs": [
    {
     "data": {
      "text/plain": [
       "'d'"
      ]
     },
     "execution_count": 42,
     "metadata": {},
     "output_type": "execute_result"
    }
   ],
   "source": [
    "# Answer : \n",
    "# It will display the last value of the list, becaue Negative indexes count from the end on the list.\n",
    "spam[-1]"
   ]
  },
  {
   "cell_type": "code",
   "execution_count": 43,
   "id": "a41f9c37",
   "metadata": {},
   "outputs": [],
   "source": [
    "# Question 5 :\n",
    "# What is the value of spam[:2]?\n",
    "# For this question, let's say spam contains the list ['a', 'b', 'c', 'd']."
   ]
  },
  {
   "cell_type": "code",
   "execution_count": 44,
   "id": "52732226",
   "metadata": {},
   "outputs": [
    {
     "data": {
      "text/plain": [
       "['a', 'b']"
      ]
     },
     "execution_count": 44,
     "metadata": {},
     "output_type": "execute_result"
    }
   ],
   "source": [
    "# Answer: ['a', 'b'] # It will display the value excluding the upper index value start from zero.\n",
    "\n",
    "spam[:2]"
   ]
  },
  {
   "cell_type": "code",
   "execution_count": 45,
   "id": "035742d1",
   "metadata": {},
   "outputs": [],
   "source": [
    "# Question 6: \n",
    "# What is the value of bacon.index('cat')? \n",
    "# Let's pretend bacon has the list [3.14, 'cat', 11, 'cat', True] for the next three questions\n",
    "\n",
    "# Anser is 1 "
   ]
  },
  {
   "cell_type": "code",
   "execution_count": 62,
   "id": "9cfb71ce",
   "metadata": {},
   "outputs": [],
   "source": [
    "bacon = [3.14, 'cat', 11, 'cat', True]\n"
   ]
  },
  {
   "cell_type": "code",
   "execution_count": 63,
   "id": "405f8740",
   "metadata": {},
   "outputs": [
    {
     "data": {
      "text/plain": [
       "[3.14, 'cat', 11, 'cat', True]"
      ]
     },
     "execution_count": 63,
     "metadata": {},
     "output_type": "execute_result"
    }
   ],
   "source": [
    "bacon"
   ]
  },
  {
   "cell_type": "code",
   "execution_count": 64,
   "id": "71616073",
   "metadata": {},
   "outputs": [
    {
     "data": {
      "text/plain": [
       "1"
      ]
     },
     "execution_count": 64,
     "metadata": {},
     "output_type": "execute_result"
    }
   ],
   "source": [
    "bacon.index('cat') # # it returns the index of first occurrence of 'cat'"
   ]
  },
  {
   "cell_type": "code",
   "execution_count": 65,
   "id": "561cf5d5",
   "metadata": {},
   "outputs": [],
   "source": [
    "# Question 7 : \n",
    "# How does bacon.append(99) change the look of the list value in bacon?\n",
    "# Let's pretend bacon has the list [3.14, 'cat', 11, 'cat', True] for the next three questions\n"
   ]
  },
  {
   "cell_type": "code",
   "execution_count": 66,
   "id": "d6a2178b",
   "metadata": {},
   "outputs": [
    {
     "data": {
      "text/plain": [
       "[3.14, 'cat', 11, 'cat', True, 99]"
      ]
     },
     "execution_count": 66,
     "metadata": {},
     "output_type": "execute_result"
    }
   ],
   "source": [
    "# Answer\n",
    "bacon = [3.14, 'cat', 11, 'cat', True]\n",
    "bacon.append(99) # append adds the item at the end of the list\n",
    "bacon"
   ]
  },
  {
   "cell_type": "code",
   "execution_count": 67,
   "id": "611411d7",
   "metadata": {},
   "outputs": [],
   "source": [
    "# Question 8 : \n",
    "# How does bacon.remove('cat') change the look of the list in bacon?\n",
    "# Let's pretend bacon has the list [3.14, 'cat', 11, 'cat', True] for the next three questions"
   ]
  },
  {
   "cell_type": "code",
   "execution_count": 69,
   "id": "a948f317",
   "metadata": {},
   "outputs": [
    {
     "data": {
      "text/plain": [
       "[3.14, 11, 'cat', True]"
      ]
     },
     "execution_count": 69,
     "metadata": {},
     "output_type": "execute_result"
    }
   ],
   "source": [
    "# Answer\n",
    "bacon = [3.14, 'cat', 11, 'cat', True]\n",
    "bacon.remove('cat')      # remove first occurrence of item\n",
    "bacon"
   ]
  },
  {
   "cell_type": "code",
   "execution_count": 70,
   "id": "e9670d27",
   "metadata": {},
   "outputs": [],
   "source": [
    "# Question 9 : What are the list concatenation and list replication operators?"
   ]
  },
  {
   "cell_type": "code",
   "execution_count": 71,
   "id": "baff3698",
   "metadata": {},
   "outputs": [
    {
     "data": {
      "text/plain": [
       "[1, 4, 2, 5]"
      ]
     },
     "execution_count": 71,
     "metadata": {},
     "output_type": "execute_result"
    }
   ],
   "source": [
    "# Answer : \n",
    "# ( * ) is list replication operator and ( + ) is list concatination operator\n",
    "\n",
    "l1 = [1,4]\n",
    "l2 = [2,5]\n",
    "# list concatination\n",
    "l1+l2"
   ]
  },
  {
   "cell_type": "code",
   "execution_count": 72,
   "id": "edb72019",
   "metadata": {},
   "outputs": [
    {
     "data": {
      "text/plain": [
       "[7, 4, 7, 4, 7, 4]"
      ]
     },
     "execution_count": 72,
     "metadata": {},
     "output_type": "execute_result"
    }
   ],
   "source": [
    "l1 = [7,4]\n",
    "\n",
    "# list replication\n",
    "l1*3"
   ]
  },
  {
   "cell_type": "code",
   "execution_count": 73,
   "id": "13f71ebc",
   "metadata": {},
   "outputs": [],
   "source": [
    "# Question 10 : What is difference between the list methods append() and insert()?"
   ]
  },
  {
   "cell_type": "code",
   "execution_count": 74,
   "id": "12448103",
   "metadata": {},
   "outputs": [],
   "source": [
    "# Answer :\n",
    "# append() Appends object to the end of the list\n",
    "# insert() Insert object before index"
   ]
  },
  {
   "cell_type": "code",
   "execution_count": 75,
   "id": "911c1f15",
   "metadata": {},
   "outputs": [
    {
     "data": {
      "text/plain": [
       "[3.14, 'cat', 11, 'cat', True, 99]"
      ]
     },
     "execution_count": 75,
     "metadata": {},
     "output_type": "execute_result"
    }
   ],
   "source": [
    "# Example of append()\n",
    "bacon = [3.14, 'cat', 11, 'cat', True]\n",
    "bacon.append(99) # append adds the item at the end of the list\n",
    "bacon"
   ]
  },
  {
   "cell_type": "code",
   "execution_count": 76,
   "id": "109e997b",
   "metadata": {},
   "outputs": [
    {
     "data": {
      "text/plain": [
       "[2, 4, 'hello', 6, 8, 10]"
      ]
     },
     "execution_count": 76,
     "metadata": {},
     "output_type": "execute_result"
    }
   ],
   "source": [
    "# Example of insert()\n",
    "# solution by inserting value in 3rd index\n",
    "spam = [2, 4, 6, 8, 10]\n",
    "spam.insert(2,'hello')\n",
    "spam"
   ]
  },
  {
   "cell_type": "code",
   "execution_count": 77,
   "id": "6ca077cd",
   "metadata": {},
   "outputs": [],
   "source": [
    "# Question 11 : What are the two methods for removing items from a list?"
   ]
  },
  {
   "cell_type": "code",
   "execution_count": 78,
   "id": "993bd538",
   "metadata": {},
   "outputs": [],
   "source": [
    "# Answer :\n",
    "# remove(item) - removeds first occurence of a item\n",
    "# pop() - Remove and returns item at index (default last)."
   ]
  },
  {
   "cell_type": "code",
   "execution_count": 83,
   "id": "af07771b",
   "metadata": {},
   "outputs": [
    {
     "data": {
      "text/plain": [
       "[3.14, 11, 'cat', True]"
      ]
     },
     "execution_count": 83,
     "metadata": {},
     "output_type": "execute_result"
    }
   ],
   "source": [
    "#remove(item) - removeds first occurence of a item\n",
    "bacon = [3.14, 'cat', 11, 'cat', True]\n",
    "bacon.remove('cat')\n",
    "bacon"
   ]
  },
  {
   "cell_type": "code",
   "execution_count": 80,
   "id": "776d8087",
   "metadata": {},
   "outputs": [
    {
     "data": {
      "text/plain": [
       "[3.14, 'cat', 11, 'cat']"
      ]
     },
     "execution_count": 80,
     "metadata": {},
     "output_type": "execute_result"
    }
   ],
   "source": [
    "# pop() - Remove and returns item at index (default last).\n",
    "bacon = [3.14, 'cat', 11, 'cat', True]\n",
    "bacon.pop()\n",
    "bacon"
   ]
  },
  {
   "cell_type": "code",
   "execution_count": 84,
   "id": "09eedb30",
   "metadata": {},
   "outputs": [],
   "source": [
    "# Question 12 : Describe how list values and string values are identical."
   ]
  },
  {
   "cell_type": "code",
   "execution_count": 85,
   "id": "5e1d679b",
   "metadata": {},
   "outputs": [],
   "source": [
    "# Answer :\n",
    "\n",
    "# i.   Both lists and strings can be passed to len().\n",
    "# ii.  Have indexes and slices.\n",
    "# iii. Can be used in for loops\n",
    "# iv.  Can be concatenated or replicated\n",
    "# v.  Can be used with the in and not in operators"
   ]
  },
  {
   "cell_type": "code",
   "execution_count": 86,
   "id": "2d0ec658",
   "metadata": {},
   "outputs": [],
   "source": [
    "# Question 13 : What's the difference between tuples and lists?\n"
   ]
  },
  {
   "cell_type": "code",
   "execution_count": 87,
   "id": "5eb42e2c",
   "metadata": {},
   "outputs": [],
   "source": [
    "# Answer :\n",
    "\n",
    "# Lists : are mutable - they can have values added, removed, or changed. lists use the square brackets, [ and ]\n",
    "# Tuples : are immutable; they cannot be changed at all. Tuples are written using parentheses, ( and )"
   ]
  },
  {
   "cell_type": "code",
   "execution_count": 88,
   "id": "895581c2",
   "metadata": {},
   "outputs": [],
   "source": [
    "# Question 14 : How do you type a tuple value that only contains the integer 42?"
   ]
  },
  {
   "cell_type": "code",
   "execution_count": 90,
   "id": "216ec75b",
   "metadata": {},
   "outputs": [
    {
     "data": {
      "text/plain": [
       "42"
      ]
     },
     "execution_count": 90,
     "metadata": {},
     "output_type": "execute_result"
    }
   ],
   "source": [
    "# Answer : \n",
    "\n",
    "tuple = (42)\n",
    "tuple"
   ]
  },
  {
   "cell_type": "code",
   "execution_count": 106,
   "id": "a9081e2c",
   "metadata": {},
   "outputs": [],
   "source": [
    "# Question 15 : How do you get a list value's tuple form? How do you get a tuple value's list form?"
   ]
  },
  {
   "cell_type": "code",
   "execution_count": null,
   "id": "bf54f478",
   "metadata": {},
   "outputs": [],
   "source": [
    "# How do you get a list value's tuple form?\n",
    "l1 = [2,3]\n",
    "l = tuple(l1)\n",
    "l  # (2,3)\n"
   ]
  },
  {
   "cell_type": "code",
   "execution_count": null,
   "id": "50799214",
   "metadata": {},
   "outputs": [],
   "source": [
    "# How do you get a tuple value's list form?\n",
    "t1 = (3,4)\n",
    "t = list(t1)\n",
    "t   # [3, 4]"
   ]
  },
  {
   "cell_type": "code",
   "execution_count": 112,
   "id": "5c89149e",
   "metadata": {},
   "outputs": [],
   "source": [
    "# Question 16. Variables that \"contain\" list values are not necessarily lists themselves. Instead, what do they contain?"
   ]
  },
  {
   "cell_type": "code",
   "execution_count": 113,
   "id": "d6e56875",
   "metadata": {},
   "outputs": [],
   "source": [
    "# Answer :\n",
    "# They contain references to list values"
   ]
  },
  {
   "cell_type": "code",
   "execution_count": 114,
   "id": "e60e9c4a",
   "metadata": {},
   "outputs": [],
   "source": [
    "# Question 17 : How do you distinguish between copy.copy() and copy.deepcopy()?"
   ]
  },
  {
   "cell_type": "code",
   "execution_count": null,
   "id": "46d04936",
   "metadata": {},
   "outputs": [],
   "source": [
    "# Answer : \n",
    "\n",
    "# The copy.copy() function will do a shallow copy of a list,\n",
    "# The copy.deepcopy() function will do a deep copy of a list. only copy.deepcopy() will duplicate any lists inside the list"
   ]
  }
 ],
 "metadata": {
  "kernelspec": {
   "display_name": "Python 3 (ipykernel)",
   "language": "python",
   "name": "python3"
  },
  "language_info": {
   "codemirror_mode": {
    "name": "ipython",
    "version": 3
   },
   "file_extension": ".py",
   "mimetype": "text/x-python",
   "name": "python",
   "nbconvert_exporter": "python",
   "pygments_lexer": "ipython3",
   "version": "3.9.12"
  }
 },
 "nbformat": 4,
 "nbformat_minor": 5
}
